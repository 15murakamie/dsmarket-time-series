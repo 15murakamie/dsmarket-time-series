{
 "cells": [
  {
   "cell_type": "markdown",
   "id": "a4e7252e-0537-48af-bc15-8e6a4188a8ce",
   "metadata": {},
   "source": [
    "## Importando as bibliotecas"
   ]
  },
  {
   "cell_type": "code",
   "execution_count": 1,
   "id": "608c2627-e37f-4845-bab0-e67d077dcdaa",
   "metadata": {},
   "outputs": [],
   "source": [
    "import pandas as pd\n",
    "import math"
   ]
  },
  {
   "cell_type": "markdown",
   "id": "0607a77c",
   "metadata": {},
   "source": [
    "### Importando dataframes do google drive"
   ]
  },
  {
   "cell_type": "code",
   "execution_count": 2,
   "id": "e19eb472",
   "metadata": {},
   "outputs": [],
   "source": [
    "#Importando preços \n",
    "url1 = 'https://drive.google.com/file/d/1WAbTdLmhm0Ih971SU3AY_RoXpfPJAMTi/view?usp=drive_link'\n",
    "path1 = 'https://drive.google.com/uc?export=download&id='+url1.split('/')[-2]\n",
    "df_price1 = pd.read_csv(path1)\n",
    "\n",
    "url2 = 'https://drive.google.com/file/d/1J7oWaSGJVSiTl5TifTEgvbg0d08iSryf/view?usp=drive_link'\n",
    "path2 = 'https://drive.google.com/uc?export=download&id='+url2.split('/')[-2]\n",
    "df_price2 = pd.read_csv(path2)\n",
    "\n",
    "url3 = 'https://drive.google.com/file/d/1qXDbN6ib9HO5oFbI3MtdvTfXP066hYZ6/view?usp=drive_link'\n",
    "path3 = 'https://drive.google.com/uc?export=download&id='+url3.split('/')[-2]\n",
    "df_price3 = pd.read_csv(path3)\n",
    "\n",
    "url4 = 'https://drive.google.com/file/d/1tgdpfFtl1DVczTouPUDc5tLcAbh7SpWP/view?usp=drive_link'\n",
    "path4 = 'https://drive.google.com/uc?export=download&id='+url4.split('/')[-2]\n",
    "df_price4 = pd.read_csv(path4)\n",
    "\n",
    "url5 = 'https://drive.google.com/file/d/1NxHF52tEXTqbglY-14_WpLsDEnYHBnuK/view?usp=drive_link'\n",
    "path5 = 'https://drive.google.com/uc?export=download&id='+url5.split('/')[-2]\n",
    "df_price5 = pd.read_csv(path5)\n",
    "\n",
    "df_price = pd.concat([df_price1, df_price2, df_price3, df_price4, df_price5], ignore_index=True)"
   ]
  },
  {
   "cell_type": "code",
   "execution_count": 4,
   "id": "449b53c5",
   "metadata": {},
   "outputs": [],
   "source": [
    "#Importando Vendas \n",
    "url1 = 'https://drive.google.com/file/d/1sKG9E753lvXJPB5l3RktNct71J-xh_8w/view?usp=drive_link'\n",
    "path1 = 'https://drive.google.com/uc?export=download&id='+url1.split('/')[-2]\n",
    "df_sales1 = pd.read_csv(path1)\n",
    "\n",
    "url2 = 'https://drive.google.com/file/d/1u0A_yubzWjWTWLFVrm7asWs395BQ578E/view?usp=drive_link'\n",
    "path2 = 'https://drive.google.com/uc?export=download&id='+url2.split('/')[-2]\n",
    "df_sales2 = pd.read_csv(path2)\n",
    "\n",
    "url3 = 'https://drive.google.com/file/d/1NlRLGEEeUxlPDpt2FgrVvjiT_y_jHluh/view?usp=drive_link'\n",
    "path3 = 'https://drive.google.com/uc?export=download&id='+url3.split('/')[-2]\n",
    "df_sales3 = pd.read_csv(path3)\n",
    "\n",
    "url4 = 'https://drive.google.com/file/d/13gowR6492BQrfQvU5_kYE5xxF3gWum38/view?usp=drive_link'\n",
    "path4 = 'https://drive.google.com/uc?export=download&id='+url4.split('/')[-2]\n",
    "df_sales4 = pd.read_csv(path4)\n",
    "\n",
    "url5 = 'https://drive.google.com/file/d/1FsYLisvlMXxMz6BeUu1-1iuumVaYb9J-/view?usp=drive_link'\n",
    "path5 = 'https://drive.google.com/uc?export=download&id='+url5.split('/')[-2]\n",
    "df_sales5 = pd.read_csv(path5)\n",
    "\n",
    "url6 = 'https://drive.google.com/file/d/14AbgBUnbixFjv_8pPlUkchxFQ4kytgsb/view?usp=drive_link'\n",
    "path6 = 'https://drive.google.com/uc?export=download&id='+url6.split('/')[-2]\n",
    "df_sales6 = pd.read_csv(path6)\n",
    "\n",
    "df_sales = pd.concat([df_sales1, df_sales2, df_sales3, df_sales4, df_sales5, df_sales6], ignore_index=True)"
   ]
  },
  {
   "cell_type": "code",
   "execution_count": null,
   "id": "0d265d86",
   "metadata": {},
   "outputs": [
    {
     "name": "stdout",
     "output_type": "stream",
     "text": [
      "Tamanho: (1913, 5)\n",
      "         date    weekday  weekday_int    d event\n",
      "0  2011-01-29   Saturday            1  d_1   NaN\n",
      "1  2011-01-30     Sunday            2  d_2   NaN\n",
      "2  2011-01-31     Monday            3  d_3   NaN\n",
      "3  2011-02-01    Tuesday            4  d_4   NaN\n",
      "4  2011-02-02  Wednesday            5  d_5   NaN\n"
     ]
    }
   ],
   "source": [
    "# Importando eventos\n",
    "url = 'https://drive.google.com/file/d/1h94avu15TuiguEiwdKhzL06EBNkcmSjv/view?usp=drive_link'\n",
    "path = 'https://drive.google.com/uc?export=download&id='+url.split('/')[-2]\n",
    "df_events = pd.read_csv(path)\n",
    "print('Tamanho:',  df_events.shape)\n",
    "print(df_events.head())"
   ]
  }
 ],
 "metadata": {
  "kernelspec": {
   "display_name": "Python 3 (ipykernel)",
   "language": "python",
   "name": "python3"
  },
  "language_info": {
   "codemirror_mode": {
    "name": "ipython",
    "version": 3
   },
   "file_extension": ".py",
   "mimetype": "text/x-python",
   "name": "python",
   "nbconvert_exporter": "python",
   "pygments_lexer": "ipython3",
   "version": "3.11.9"
  }
 },
 "nbformat": 4,
 "nbformat_minor": 5
}
