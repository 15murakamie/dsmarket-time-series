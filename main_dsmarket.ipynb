{
 "cells": [
  {
   "cell_type": "markdown",
   "id": "a4e7252e-0537-48af-bc15-8e6a4188a8ce",
   "metadata": {},
   "source": [
    "## Importando as bibliotecas"
   ]
  },
  {
   "cell_type": "code",
   "execution_count": 3,
   "id": "608c2627-e37f-4845-bab0-e67d077dcdaa",
   "metadata": {},
   "outputs": [],
   "source": [
    "import pandas as pd"
   ]
  },
  {
   "cell_type": "markdown",
   "id": "1a60aa42-604c-4720-b72f-da2cac0e24ad",
   "metadata": {},
   "source": [
    "## Importando os dataset"
   ]
  },
  {
   "cell_type": "markdown",
   "id": "d8f19ca6-0148-4dc1-be5f-73862c0bcb30",
   "metadata": {},
   "source": [
    "##### Alterem o diretório abaixo para o local onde estiver os seus dados (se estiver em sua máquina local)\n",
    "##### Importante: o 'r' antes do diretório para saber que é uma \"raw string\""
   ]
  },
  {
   "cell_type": "code",
   "execution_count": 6,
   "id": "812fee53-1434-4817-8ec0-c385d0916874",
   "metadata": {},
   "outputs": [],
   "source": [
    "# Definindo diretório padrão dos dados\n",
    "dir=r'C:\\Users\\ermura\\OneDrive - SAS\\Documents\\Nuclio Digital School\\Entregaveis\\Projeto Final\\data'"
   ]
  },
  {
   "cell_type": "code",
   "execution_count": 7,
   "id": "4b5d9576-ad35-49fa-ae7b-7a6ff364968a",
   "metadata": {},
   "outputs": [],
   "source": [
    "df_price = pd.read_csv(dir + '/item_prices.csv')\n",
    "df_sales = pd.read_csv(dir + '/item_sales.csv')\n",
    "df_events = pd.read_csv(dir + '/daily_calendar_with_events.csv')"
   ]
  },
  {
   "cell_type": "markdown",
   "id": "d7203956-caf7-4429-b491-1f9ac3be4208",
   "metadata": {},
   "source": [
    "## Análise dos datasets"
   ]
  },
  {
   "cell_type": "markdown",
   "id": "54a9c0b3-f737-418a-8c86-7f6b408262ed",
   "metadata": {},
   "source": [
    "#### Explorando o dataset **\"item_price\"**"
   ]
  },
  {
   "cell_type": "markdown",
   "id": "807ab2f7-9661-498f-b81c-b4a46c073c00",
   "metadata": {},
   "source": [
    "To do: \n",
    "- Transformar yearweek em data? ano + semana\n",
    "- Tem 243920 registros em branco. O que fazer?\n"
   ]
  },
  {
   "cell_type": "code",
   "execution_count": 11,
   "id": "6761b538-cb4d-47ce-a325-693410e53704",
   "metadata": {},
   "outputs": [
    {
     "name": "stdout",
     "output_type": "stream",
     "text": [
      "Informações do dataset de \"Preço\":\n",
      "Tamanho: (6965706, 5)\n",
      "Colunas: Index(['item', 'category', 'store_code', 'yearweek', 'sell_price'], dtype='object')\n"
     ]
    },
    {
     "data": {
      "text/html": [
       "<div>\n",
       "<style scoped>\n",
       "    .dataframe tbody tr th:only-of-type {\n",
       "        vertical-align: middle;\n",
       "    }\n",
       "\n",
       "    .dataframe tbody tr th {\n",
       "        vertical-align: top;\n",
       "    }\n",
       "\n",
       "    .dataframe thead th {\n",
       "        text-align: right;\n",
       "    }\n",
       "</style>\n",
       "<table border=\"1\" class=\"dataframe\">\n",
       "  <thead>\n",
       "    <tr style=\"text-align: right;\">\n",
       "      <th></th>\n",
       "      <th>item</th>\n",
       "      <th>category</th>\n",
       "      <th>store_code</th>\n",
       "      <th>yearweek</th>\n",
       "      <th>sell_price</th>\n",
       "    </tr>\n",
       "  </thead>\n",
       "  <tbody>\n",
       "    <tr>\n",
       "      <th>0</th>\n",
       "      <td>ACCESORIES_1_001</td>\n",
       "      <td>ACCESORIES</td>\n",
       "      <td>NYC_1</td>\n",
       "      <td>201328.0</td>\n",
       "      <td>12.7414</td>\n",
       "    </tr>\n",
       "    <tr>\n",
       "      <th>1</th>\n",
       "      <td>ACCESORIES_1_001</td>\n",
       "      <td>ACCESORIES</td>\n",
       "      <td>NYC_1</td>\n",
       "      <td>201329.0</td>\n",
       "      <td>12.7414</td>\n",
       "    </tr>\n",
       "    <tr>\n",
       "      <th>2</th>\n",
       "      <td>ACCESORIES_1_001</td>\n",
       "      <td>ACCESORIES</td>\n",
       "      <td>NYC_1</td>\n",
       "      <td>201330.0</td>\n",
       "      <td>10.9858</td>\n",
       "    </tr>\n",
       "    <tr>\n",
       "      <th>3</th>\n",
       "      <td>ACCESORIES_1_001</td>\n",
       "      <td>ACCESORIES</td>\n",
       "      <td>NYC_1</td>\n",
       "      <td>201331.0</td>\n",
       "      <td>10.9858</td>\n",
       "    </tr>\n",
       "    <tr>\n",
       "      <th>4</th>\n",
       "      <td>ACCESORIES_1_001</td>\n",
       "      <td>ACCESORIES</td>\n",
       "      <td>NYC_1</td>\n",
       "      <td>201332.0</td>\n",
       "      <td>10.9858</td>\n",
       "    </tr>\n",
       "  </tbody>\n",
       "</table>\n",
       "</div>"
      ],
      "text/plain": [
       "               item    category store_code  yearweek  sell_price\n",
       "0  ACCESORIES_1_001  ACCESORIES      NYC_1  201328.0     12.7414\n",
       "1  ACCESORIES_1_001  ACCESORIES      NYC_1  201329.0     12.7414\n",
       "2  ACCESORIES_1_001  ACCESORIES      NYC_1  201330.0     10.9858\n",
       "3  ACCESORIES_1_001  ACCESORIES      NYC_1  201331.0     10.9858\n",
       "4  ACCESORIES_1_001  ACCESORIES      NYC_1  201332.0     10.9858"
      ]
     },
     "execution_count": 11,
     "metadata": {},
     "output_type": "execute_result"
    }
   ],
   "source": [
    "print('Informações do dataset de \"Preço\":')\n",
    "print('Tamanho:',  df_price.shape)\n",
    "print('Colunas:',  df_price.columns)\n",
    "df_price.head()"
   ]
  },
  {
   "cell_type": "code",
   "execution_count": 12,
   "id": "714f04e8-484b-4022-986e-2b81ef2dec24",
   "metadata": {},
   "outputs": [
    {
     "name": "stdout",
     "output_type": "stream",
     "text": [
      "<class 'pandas.core.frame.DataFrame'>\n",
      "RangeIndex: 6965706 entries, 0 to 6965705\n",
      "Data columns (total 5 columns):\n",
      " #   Column      Dtype  \n",
      "---  ------      -----  \n",
      " 0   item        object \n",
      " 1   category    object \n",
      " 2   store_code  object \n",
      " 3   yearweek    float64\n",
      " 4   sell_price  float64\n",
      "dtypes: float64(2), object(3)\n",
      "memory usage: 265.7+ MB\n"
     ]
    }
   ],
   "source": [
    "df_price.info(verbose=True)"
   ]
  },
  {
   "cell_type": "code",
   "execution_count": 13,
   "id": "8dcd61e3-aef4-40b2-bb63-e31027b87fbb",
   "metadata": {},
   "outputs": [
    {
     "data": {
      "text/plain": [
       "item               0\n",
       "category           0\n",
       "store_code         0\n",
       "yearweek      243920\n",
       "sell_price         0\n",
       "dtype: int64"
      ]
     },
     "execution_count": 13,
     "metadata": {},
     "output_type": "execute_result"
    }
   ],
   "source": [
    "df_price.select_dtypes(include=['number','object']).isnull().sum()"
   ]
  },
  {
   "cell_type": "code",
   "execution_count": 14,
   "id": "efcfe5a2-9382-4fe7-acb4-f76945749f75",
   "metadata": {},
   "outputs": [
    {
     "data": {
      "text/plain": [
       "yearweek\n",
       "201608.0    30490\n",
       "201617.0    30490\n",
       "201615.0    30490\n",
       "201614.0    30490\n",
       "201613.0    30490\n",
       "            ...  \n",
       "201109.0    13033\n",
       "201108.0    12799\n",
       "201107.0    12519\n",
       "201106.0    11975\n",
       "201105.0    10932\n",
       "Name: count, Length: 279, dtype: int64"
      ]
     },
     "execution_count": 14,
     "metadata": {},
     "output_type": "execute_result"
    }
   ],
   "source": [
    "df_price['yearweek'].value_counts()"
   ]
  },
  {
   "cell_type": "code",
   "execution_count": 15,
   "id": "cf5a829a-9138-45f1-b04a-53ba182687c7",
   "metadata": {},
   "outputs": [
    {
     "name": "stdout",
     "output_type": "stream",
     "text": [
      "A porcentagem de valores nulos da coluna yearweek é de: 3.50%\n"
     ]
    }
   ],
   "source": [
    "raw_nan = (df_price['yearweek'].isnull().sum() / len(df_price))\n",
    "percent_nan = \"{:.2%}\".format(raw_nan)\n",
    "print('A porcentagem de valores nulos da coluna yearweek é de:', percent_nan) "
   ]
  },
  {
   "cell_type": "code",
   "execution_count": 16,
   "id": "f13aea80-9297-4778-8036-dcbb1a19d5eb",
   "metadata": {},
   "outputs": [
    {
     "data": {
      "text/html": [
       "<div>\n",
       "<style scoped>\n",
       "    .dataframe tbody tr th:only-of-type {\n",
       "        vertical-align: middle;\n",
       "    }\n",
       "\n",
       "    .dataframe tbody tr th {\n",
       "        vertical-align: top;\n",
       "    }\n",
       "\n",
       "    .dataframe thead th {\n",
       "        text-align: right;\n",
       "    }\n",
       "</style>\n",
       "<table border=\"1\" class=\"dataframe\">\n",
       "  <thead>\n",
       "    <tr style=\"text-align: right;\">\n",
       "      <th></th>\n",
       "      <th>count</th>\n",
       "      <th>mean</th>\n",
       "      <th>std</th>\n",
       "      <th>min</th>\n",
       "      <th>25%</th>\n",
       "      <th>50%</th>\n",
       "      <th>75%</th>\n",
       "      <th>max</th>\n",
       "    </tr>\n",
       "  </thead>\n",
       "  <tbody>\n",
       "    <tr>\n",
       "      <th>yearweek</th>\n",
       "      <td>6721786.0</td>\n",
       "      <td>201382.418346</td>\n",
       "      <td>145.018929</td>\n",
       "      <td>201105.000</td>\n",
       "      <td>201248.0000</td>\n",
       "      <td>201410.0</td>\n",
       "      <td>201515.000</td>\n",
       "      <td>201617.00</td>\n",
       "    </tr>\n",
       "    <tr>\n",
       "      <th>sell_price</th>\n",
       "      <td>6965706.0</td>\n",
       "      <td>5.518273</td>\n",
       "      <td>4.387861</td>\n",
       "      <td>0.012</td>\n",
       "      <td>2.6201</td>\n",
       "      <td>4.2</td>\n",
       "      <td>7.176</td>\n",
       "      <td>134.15</td>\n",
       "    </tr>\n",
       "  </tbody>\n",
       "</table>\n",
       "</div>"
      ],
      "text/plain": [
       "                count           mean         std         min          25%  \\\n",
       "yearweek    6721786.0  201382.418346  145.018929  201105.000  201248.0000   \n",
       "sell_price  6965706.0       5.518273    4.387861       0.012       2.6201   \n",
       "\n",
       "                 50%         75%        max  \n",
       "yearweek    201410.0  201515.000  201617.00  \n",
       "sell_price       4.2       7.176     134.15  "
      ]
     },
     "execution_count": 16,
     "metadata": {},
     "output_type": "execute_result"
    }
   ],
   "source": [
    "df_price.describe().T"
   ]
  },
  {
   "cell_type": "code",
   "execution_count": 17,
   "id": "cc060e5b-0797-4540-8702-bda98379339a",
   "metadata": {},
   "outputs": [
    {
     "data": {
      "text/html": [
       "<div>\n",
       "<style scoped>\n",
       "    .dataframe tbody tr th:only-of-type {\n",
       "        vertical-align: middle;\n",
       "    }\n",
       "\n",
       "    .dataframe tbody tr th {\n",
       "        vertical-align: top;\n",
       "    }\n",
       "\n",
       "    .dataframe thead th {\n",
       "        text-align: right;\n",
       "    }\n",
       "</style>\n",
       "<table border=\"1\" class=\"dataframe\">\n",
       "  <thead>\n",
       "    <tr style=\"text-align: right;\">\n",
       "      <th></th>\n",
       "      <th>count</th>\n",
       "      <th>unique</th>\n",
       "      <th>top</th>\n",
       "      <th>freq</th>\n",
       "    </tr>\n",
       "  </thead>\n",
       "  <tbody>\n",
       "    <tr>\n",
       "      <th>item</th>\n",
       "      <td>6965706</td>\n",
       "      <td>3049</td>\n",
       "      <td>SUPERMARKET_3_587</td>\n",
       "      <td>2870</td>\n",
       "    </tr>\n",
       "    <tr>\n",
       "      <th>category</th>\n",
       "      <td>6965706</td>\n",
       "      <td>3</td>\n",
       "      <td>SUPERMARKET</td>\n",
       "      <td>3239821</td>\n",
       "    </tr>\n",
       "    <tr>\n",
       "      <th>store_code</th>\n",
       "      <td>6965706</td>\n",
       "      <td>10</td>\n",
       "      <td>BOS_2</td>\n",
       "      <td>713960</td>\n",
       "    </tr>\n",
       "  </tbody>\n",
       "</table>\n",
       "</div>"
      ],
      "text/plain": [
       "              count unique                top     freq\n",
       "item        6965706   3049  SUPERMARKET_3_587     2870\n",
       "category    6965706      3        SUPERMARKET  3239821\n",
       "store_code  6965706     10              BOS_2   713960"
      ]
     },
     "execution_count": 17,
     "metadata": {},
     "output_type": "execute_result"
    }
   ],
   "source": [
    "df_price.describe(include=['object']).T"
   ]
  },
  {
   "cell_type": "markdown",
   "id": "1b8c6f13-896b-404a-b753-71f8a7722b89",
   "metadata": {},
   "source": [
    "#### Explorando o dataset **\"item_sales\"**"
   ]
  },
  {
   "cell_type": "code",
   "execution_count": 19,
   "id": "baaff927-1f3b-4ef0-bac3-24e4d4fc73bf",
   "metadata": {},
   "outputs": [
    {
     "name": "stdout",
     "output_type": "stream",
     "text": [
      "Informações do dataset de \"Preço\":\n",
      "Tamanho: (30490, 1920)\n",
      "Colunas: Index(['id', 'item', 'category', 'department', 'store', 'store_code', 'region',\n",
      "       'd_1', 'd_2', 'd_3',\n",
      "       ...\n",
      "       'd_1904', 'd_1905', 'd_1906', 'd_1907', 'd_1908', 'd_1909', 'd_1910',\n",
      "       'd_1911', 'd_1912', 'd_1913'],\n",
      "      dtype='object', length=1920)\n"
     ]
    },
    {
     "data": {
      "text/html": [
       "<div>\n",
       "<style scoped>\n",
       "    .dataframe tbody tr th:only-of-type {\n",
       "        vertical-align: middle;\n",
       "    }\n",
       "\n",
       "    .dataframe tbody tr th {\n",
       "        vertical-align: top;\n",
       "    }\n",
       "\n",
       "    .dataframe thead th {\n",
       "        text-align: right;\n",
       "    }\n",
       "</style>\n",
       "<table border=\"1\" class=\"dataframe\">\n",
       "  <thead>\n",
       "    <tr style=\"text-align: right;\">\n",
       "      <th></th>\n",
       "      <th>id</th>\n",
       "      <th>item</th>\n",
       "      <th>category</th>\n",
       "      <th>department</th>\n",
       "      <th>store</th>\n",
       "      <th>store_code</th>\n",
       "      <th>region</th>\n",
       "      <th>d_1</th>\n",
       "      <th>d_2</th>\n",
       "      <th>d_3</th>\n",
       "      <th>...</th>\n",
       "      <th>d_1904</th>\n",
       "      <th>d_1905</th>\n",
       "      <th>d_1906</th>\n",
       "      <th>d_1907</th>\n",
       "      <th>d_1908</th>\n",
       "      <th>d_1909</th>\n",
       "      <th>d_1910</th>\n",
       "      <th>d_1911</th>\n",
       "      <th>d_1912</th>\n",
       "      <th>d_1913</th>\n",
       "    </tr>\n",
       "  </thead>\n",
       "  <tbody>\n",
       "    <tr>\n",
       "      <th>0</th>\n",
       "      <td>ACCESORIES_1_001_NYC_1</td>\n",
       "      <td>ACCESORIES_1_001</td>\n",
       "      <td>ACCESORIES</td>\n",
       "      <td>ACCESORIES_1</td>\n",
       "      <td>Greenwich_Village</td>\n",
       "      <td>NYC_1</td>\n",
       "      <td>New York</td>\n",
       "      <td>0</td>\n",
       "      <td>0</td>\n",
       "      <td>0</td>\n",
       "      <td>...</td>\n",
       "      <td>1</td>\n",
       "      <td>3</td>\n",
       "      <td>0</td>\n",
       "      <td>1</td>\n",
       "      <td>1</td>\n",
       "      <td>1</td>\n",
       "      <td>3</td>\n",
       "      <td>0</td>\n",
       "      <td>1</td>\n",
       "      <td>1</td>\n",
       "    </tr>\n",
       "    <tr>\n",
       "      <th>1</th>\n",
       "      <td>ACCESORIES_1_002_NYC_1</td>\n",
       "      <td>ACCESORIES_1_002</td>\n",
       "      <td>ACCESORIES</td>\n",
       "      <td>ACCESORIES_1</td>\n",
       "      <td>Greenwich_Village</td>\n",
       "      <td>NYC_1</td>\n",
       "      <td>New York</td>\n",
       "      <td>0</td>\n",
       "      <td>0</td>\n",
       "      <td>0</td>\n",
       "      <td>...</td>\n",
       "      <td>0</td>\n",
       "      <td>0</td>\n",
       "      <td>0</td>\n",
       "      <td>0</td>\n",
       "      <td>0</td>\n",
       "      <td>1</td>\n",
       "      <td>0</td>\n",
       "      <td>0</td>\n",
       "      <td>0</td>\n",
       "      <td>0</td>\n",
       "    </tr>\n",
       "    <tr>\n",
       "      <th>2</th>\n",
       "      <td>ACCESORIES_1_003_NYC_1</td>\n",
       "      <td>ACCESORIES_1_003</td>\n",
       "      <td>ACCESORIES</td>\n",
       "      <td>ACCESORIES_1</td>\n",
       "      <td>Greenwich_Village</td>\n",
       "      <td>NYC_1</td>\n",
       "      <td>New York</td>\n",
       "      <td>0</td>\n",
       "      <td>0</td>\n",
       "      <td>0</td>\n",
       "      <td>...</td>\n",
       "      <td>2</td>\n",
       "      <td>1</td>\n",
       "      <td>2</td>\n",
       "      <td>1</td>\n",
       "      <td>1</td>\n",
       "      <td>1</td>\n",
       "      <td>0</td>\n",
       "      <td>1</td>\n",
       "      <td>1</td>\n",
       "      <td>1</td>\n",
       "    </tr>\n",
       "    <tr>\n",
       "      <th>3</th>\n",
       "      <td>ACCESORIES_1_004_NYC_1</td>\n",
       "      <td>ACCESORIES_1_004</td>\n",
       "      <td>ACCESORIES</td>\n",
       "      <td>ACCESORIES_1</td>\n",
       "      <td>Greenwich_Village</td>\n",
       "      <td>NYC_1</td>\n",
       "      <td>New York</td>\n",
       "      <td>0</td>\n",
       "      <td>0</td>\n",
       "      <td>0</td>\n",
       "      <td>...</td>\n",
       "      <td>1</td>\n",
       "      <td>0</td>\n",
       "      <td>5</td>\n",
       "      <td>4</td>\n",
       "      <td>1</td>\n",
       "      <td>0</td>\n",
       "      <td>1</td>\n",
       "      <td>3</td>\n",
       "      <td>7</td>\n",
       "      <td>2</td>\n",
       "    </tr>\n",
       "    <tr>\n",
       "      <th>4</th>\n",
       "      <td>ACCESORIES_1_005_NYC_1</td>\n",
       "      <td>ACCESORIES_1_005</td>\n",
       "      <td>ACCESORIES</td>\n",
       "      <td>ACCESORIES_1</td>\n",
       "      <td>Greenwich_Village</td>\n",
       "      <td>NYC_1</td>\n",
       "      <td>New York</td>\n",
       "      <td>0</td>\n",
       "      <td>0</td>\n",
       "      <td>0</td>\n",
       "      <td>...</td>\n",
       "      <td>2</td>\n",
       "      <td>1</td>\n",
       "      <td>1</td>\n",
       "      <td>0</td>\n",
       "      <td>1</td>\n",
       "      <td>1</td>\n",
       "      <td>2</td>\n",
       "      <td>2</td>\n",
       "      <td>2</td>\n",
       "      <td>4</td>\n",
       "    </tr>\n",
       "  </tbody>\n",
       "</table>\n",
       "<p>5 rows × 1920 columns</p>\n",
       "</div>"
      ],
      "text/plain": [
       "                       id              item    category    department  \\\n",
       "0  ACCESORIES_1_001_NYC_1  ACCESORIES_1_001  ACCESORIES  ACCESORIES_1   \n",
       "1  ACCESORIES_1_002_NYC_1  ACCESORIES_1_002  ACCESORIES  ACCESORIES_1   \n",
       "2  ACCESORIES_1_003_NYC_1  ACCESORIES_1_003  ACCESORIES  ACCESORIES_1   \n",
       "3  ACCESORIES_1_004_NYC_1  ACCESORIES_1_004  ACCESORIES  ACCESORIES_1   \n",
       "4  ACCESORIES_1_005_NYC_1  ACCESORIES_1_005  ACCESORIES  ACCESORIES_1   \n",
       "\n",
       "               store store_code    region  d_1  d_2  d_3  ...  d_1904  d_1905  \\\n",
       "0  Greenwich_Village      NYC_1  New York    0    0    0  ...       1       3   \n",
       "1  Greenwich_Village      NYC_1  New York    0    0    0  ...       0       0   \n",
       "2  Greenwich_Village      NYC_1  New York    0    0    0  ...       2       1   \n",
       "3  Greenwich_Village      NYC_1  New York    0    0    0  ...       1       0   \n",
       "4  Greenwich_Village      NYC_1  New York    0    0    0  ...       2       1   \n",
       "\n",
       "   d_1906  d_1907  d_1908  d_1909  d_1910  d_1911  d_1912  d_1913  \n",
       "0       0       1       1       1       3       0       1       1  \n",
       "1       0       0       0       1       0       0       0       0  \n",
       "2       2       1       1       1       0       1       1       1  \n",
       "3       5       4       1       0       1       3       7       2  \n",
       "4       1       0       1       1       2       2       2       4  \n",
       "\n",
       "[5 rows x 1920 columns]"
      ]
     },
     "execution_count": 19,
     "metadata": {},
     "output_type": "execute_result"
    }
   ],
   "source": [
    "print('Informações do dataset de \"Preço\":')\n",
    "print('Tamanho:',  df_sales.shape)\n",
    "print('Colunas:',  df_sales.columns)\n",
    "df_sales.head()"
   ]
  },
  {
   "cell_type": "code",
   "execution_count": 20,
   "id": "b5c74356-25f3-4dda-9166-597a142fde2b",
   "metadata": {},
   "outputs": [
    {
     "name": "stdout",
     "output_type": "stream",
     "text": [
      "<class 'pandas.core.frame.DataFrame'>\n",
      "RangeIndex: 30490 entries, 0 to 30489\n",
      "Columns: 1920 entries, id to d_1913\n",
      "dtypes: int64(1913), object(7)\n",
      "memory usage: 446.6+ MB\n"
     ]
    }
   ],
   "source": [
    "# Se colocar verbose=True, vai aparecer 1920 linhas por conta da quantidade de colunas do df\n",
    "df_sales.info(verbose=False)"
   ]
  },
  {
   "cell_type": "code",
   "execution_count": 21,
   "id": "7d7f835a-72c7-4c4f-b484-9fe6feaf7b87",
   "metadata": {},
   "outputs": [
    {
     "data": {
      "text/plain": [
       "id            0\n",
       "item          0\n",
       "category      0\n",
       "department    0\n",
       "store         0\n",
       "store_code    0\n",
       "region        0\n",
       "dtype: int64"
      ]
     },
     "execution_count": 21,
     "metadata": {},
     "output_type": "execute_result"
    }
   ],
   "source": [
    "df_sales.select_dtypes(include=['object']).isnull().sum()"
   ]
  },
  {
   "cell_type": "code",
   "execution_count": 22,
   "id": "866f2bde-67f4-4608-8f35-3531802304fa",
   "metadata": {},
   "outputs": [
    {
     "name": "stdout",
     "output_type": "stream",
     "text": [
      "Nenhuma coluna tem valores nulos.\n"
     ]
    }
   ],
   "source": [
    "filtered_columns = df_sales.select_dtypes(include=['number']).isnull().sum() >= 1\n",
    "\n",
    "# Verificar se alguma coluna está com o valor nulo\n",
    "if filtered_columns.any():\n",
    "    print(\"Pelo menos uma coluna tem valores nulos.\")\n",
    "else:\n",
    "    print(\"Nenhuma coluna tem valores nulos.\")"
   ]
  },
  {
   "cell_type": "code",
   "execution_count": 23,
   "id": "43c0c321-ee35-41c8-940b-fc4ba0a13408",
   "metadata": {},
   "outputs": [
    {
     "data": {
      "text/html": [
       "<div>\n",
       "<style scoped>\n",
       "    .dataframe tbody tr th:only-of-type {\n",
       "        vertical-align: middle;\n",
       "    }\n",
       "\n",
       "    .dataframe tbody tr th {\n",
       "        vertical-align: top;\n",
       "    }\n",
       "\n",
       "    .dataframe thead th {\n",
       "        text-align: right;\n",
       "    }\n",
       "</style>\n",
       "<table border=\"1\" class=\"dataframe\">\n",
       "  <thead>\n",
       "    <tr style=\"text-align: right;\">\n",
       "      <th></th>\n",
       "      <th>count</th>\n",
       "      <th>mean</th>\n",
       "      <th>std</th>\n",
       "      <th>min</th>\n",
       "      <th>25%</th>\n",
       "      <th>50%</th>\n",
       "      <th>75%</th>\n",
       "      <th>max</th>\n",
       "    </tr>\n",
       "  </thead>\n",
       "  <tbody>\n",
       "    <tr>\n",
       "      <th>d_1</th>\n",
       "      <td>30490.0</td>\n",
       "      <td>1.070220</td>\n",
       "      <td>5.126689</td>\n",
       "      <td>0.0</td>\n",
       "      <td>0.0</td>\n",
       "      <td>0.0</td>\n",
       "      <td>0.0</td>\n",
       "      <td>360.0</td>\n",
       "    </tr>\n",
       "    <tr>\n",
       "      <th>d_2</th>\n",
       "      <td>30490.0</td>\n",
       "      <td>1.041292</td>\n",
       "      <td>5.365468</td>\n",
       "      <td>0.0</td>\n",
       "      <td>0.0</td>\n",
       "      <td>0.0</td>\n",
       "      <td>0.0</td>\n",
       "      <td>436.0</td>\n",
       "    </tr>\n",
       "    <tr>\n",
       "      <th>d_3</th>\n",
       "      <td>30490.0</td>\n",
       "      <td>0.780026</td>\n",
       "      <td>3.667454</td>\n",
       "      <td>0.0</td>\n",
       "      <td>0.0</td>\n",
       "      <td>0.0</td>\n",
       "      <td>0.0</td>\n",
       "      <td>207.0</td>\n",
       "    </tr>\n",
       "    <tr>\n",
       "      <th>d_4</th>\n",
       "      <td>30490.0</td>\n",
       "      <td>0.833454</td>\n",
       "      <td>4.415141</td>\n",
       "      <td>0.0</td>\n",
       "      <td>0.0</td>\n",
       "      <td>0.0</td>\n",
       "      <td>0.0</td>\n",
       "      <td>323.0</td>\n",
       "    </tr>\n",
       "    <tr>\n",
       "      <th>d_5</th>\n",
       "      <td>30490.0</td>\n",
       "      <td>0.627944</td>\n",
       "      <td>3.379344</td>\n",
       "      <td>0.0</td>\n",
       "      <td>0.0</td>\n",
       "      <td>0.0</td>\n",
       "      <td>0.0</td>\n",
       "      <td>296.0</td>\n",
       "    </tr>\n",
       "    <tr>\n",
       "      <th>...</th>\n",
       "      <td>...</td>\n",
       "      <td>...</td>\n",
       "      <td>...</td>\n",
       "      <td>...</td>\n",
       "      <td>...</td>\n",
       "      <td>...</td>\n",
       "      <td>...</td>\n",
       "      <td>...</td>\n",
       "    </tr>\n",
       "    <tr>\n",
       "      <th>d_1909</th>\n",
       "      <td>30490.0</td>\n",
       "      <td>1.159167</td>\n",
       "      <td>2.876026</td>\n",
       "      <td>0.0</td>\n",
       "      <td>0.0</td>\n",
       "      <td>0.0</td>\n",
       "      <td>1.0</td>\n",
       "      <td>88.0</td>\n",
       "    </tr>\n",
       "    <tr>\n",
       "      <th>d_1910</th>\n",
       "      <td>30490.0</td>\n",
       "      <td>1.149000</td>\n",
       "      <td>2.950364</td>\n",
       "      <td>0.0</td>\n",
       "      <td>0.0</td>\n",
       "      <td>0.0</td>\n",
       "      <td>1.0</td>\n",
       "      <td>77.0</td>\n",
       "    </tr>\n",
       "    <tr>\n",
       "      <th>d_1911</th>\n",
       "      <td>30490.0</td>\n",
       "      <td>1.328862</td>\n",
       "      <td>3.358012</td>\n",
       "      <td>0.0</td>\n",
       "      <td>0.0</td>\n",
       "      <td>0.0</td>\n",
       "      <td>1.0</td>\n",
       "      <td>141.0</td>\n",
       "    </tr>\n",
       "    <tr>\n",
       "      <th>d_1912</th>\n",
       "      <td>30490.0</td>\n",
       "      <td>1.605838</td>\n",
       "      <td>4.089422</td>\n",
       "      <td>0.0</td>\n",
       "      <td>0.0</td>\n",
       "      <td>0.0</td>\n",
       "      <td>2.0</td>\n",
       "      <td>171.0</td>\n",
       "    </tr>\n",
       "    <tr>\n",
       "      <th>d_1913</th>\n",
       "      <td>30490.0</td>\n",
       "      <td>1.633158</td>\n",
       "      <td>3.812248</td>\n",
       "      <td>0.0</td>\n",
       "      <td>0.0</td>\n",
       "      <td>0.0</td>\n",
       "      <td>2.0</td>\n",
       "      <td>130.0</td>\n",
       "    </tr>\n",
       "  </tbody>\n",
       "</table>\n",
       "<p>1913 rows × 8 columns</p>\n",
       "</div>"
      ],
      "text/plain": [
       "          count      mean       std  min  25%  50%  75%    max\n",
       "d_1     30490.0  1.070220  5.126689  0.0  0.0  0.0  0.0  360.0\n",
       "d_2     30490.0  1.041292  5.365468  0.0  0.0  0.0  0.0  436.0\n",
       "d_3     30490.0  0.780026  3.667454  0.0  0.0  0.0  0.0  207.0\n",
       "d_4     30490.0  0.833454  4.415141  0.0  0.0  0.0  0.0  323.0\n",
       "d_5     30490.0  0.627944  3.379344  0.0  0.0  0.0  0.0  296.0\n",
       "...         ...       ...       ...  ...  ...  ...  ...    ...\n",
       "d_1909  30490.0  1.159167  2.876026  0.0  0.0  0.0  1.0   88.0\n",
       "d_1910  30490.0  1.149000  2.950364  0.0  0.0  0.0  1.0   77.0\n",
       "d_1911  30490.0  1.328862  3.358012  0.0  0.0  0.0  1.0  141.0\n",
       "d_1912  30490.0  1.605838  4.089422  0.0  0.0  0.0  2.0  171.0\n",
       "d_1913  30490.0  1.633158  3.812248  0.0  0.0  0.0  2.0  130.0\n",
       "\n",
       "[1913 rows x 8 columns]"
      ]
     },
     "execution_count": 23,
     "metadata": {},
     "output_type": "execute_result"
    }
   ],
   "source": [
    "df_sales.describe().T"
   ]
  },
  {
   "cell_type": "code",
   "execution_count": 24,
   "id": "af6d0001-2b06-475e-9bf5-8e8e4a3b3bf0",
   "metadata": {},
   "outputs": [
    {
     "data": {
      "text/html": [
       "<div>\n",
       "<style scoped>\n",
       "    .dataframe tbody tr th:only-of-type {\n",
       "        vertical-align: middle;\n",
       "    }\n",
       "\n",
       "    .dataframe tbody tr th {\n",
       "        vertical-align: top;\n",
       "    }\n",
       "\n",
       "    .dataframe thead th {\n",
       "        text-align: right;\n",
       "    }\n",
       "</style>\n",
       "<table border=\"1\" class=\"dataframe\">\n",
       "  <thead>\n",
       "    <tr style=\"text-align: right;\">\n",
       "      <th></th>\n",
       "      <th>count</th>\n",
       "      <th>unique</th>\n",
       "      <th>top</th>\n",
       "      <th>freq</th>\n",
       "    </tr>\n",
       "  </thead>\n",
       "  <tbody>\n",
       "    <tr>\n",
       "      <th>id</th>\n",
       "      <td>30490</td>\n",
       "      <td>30490</td>\n",
       "      <td>ACCESORIES_1_001_NYC_1</td>\n",
       "      <td>1</td>\n",
       "    </tr>\n",
       "    <tr>\n",
       "      <th>item</th>\n",
       "      <td>30490</td>\n",
       "      <td>3049</td>\n",
       "      <td>ACCESORIES_1_001</td>\n",
       "      <td>10</td>\n",
       "    </tr>\n",
       "    <tr>\n",
       "      <th>category</th>\n",
       "      <td>30490</td>\n",
       "      <td>3</td>\n",
       "      <td>SUPERMARKET</td>\n",
       "      <td>14370</td>\n",
       "    </tr>\n",
       "    <tr>\n",
       "      <th>department</th>\n",
       "      <td>30490</td>\n",
       "      <td>7</td>\n",
       "      <td>SUPERMARKET_3</td>\n",
       "      <td>8230</td>\n",
       "    </tr>\n",
       "    <tr>\n",
       "      <th>store</th>\n",
       "      <td>30490</td>\n",
       "      <td>10</td>\n",
       "      <td>Greenwich_Village</td>\n",
       "      <td>3049</td>\n",
       "    </tr>\n",
       "    <tr>\n",
       "      <th>store_code</th>\n",
       "      <td>30490</td>\n",
       "      <td>10</td>\n",
       "      <td>NYC_1</td>\n",
       "      <td>3049</td>\n",
       "    </tr>\n",
       "    <tr>\n",
       "      <th>region</th>\n",
       "      <td>30490</td>\n",
       "      <td>3</td>\n",
       "      <td>New York</td>\n",
       "      <td>12196</td>\n",
       "    </tr>\n",
       "  </tbody>\n",
       "</table>\n",
       "</div>"
      ],
      "text/plain": [
       "            count unique                     top   freq\n",
       "id          30490  30490  ACCESORIES_1_001_NYC_1      1\n",
       "item        30490   3049        ACCESORIES_1_001     10\n",
       "category    30490      3             SUPERMARKET  14370\n",
       "department  30490      7           SUPERMARKET_3   8230\n",
       "store       30490     10       Greenwich_Village   3049\n",
       "store_code  30490     10                   NYC_1   3049\n",
       "region      30490      3                New York  12196"
      ]
     },
     "execution_count": 24,
     "metadata": {},
     "output_type": "execute_result"
    }
   ],
   "source": [
    "df_sales.describe(include=['object']).T"
   ]
  },
  {
   "cell_type": "markdown",
   "id": "626f82ca-d0a5-416e-8a73-b57beb9aa60d",
   "metadata": {},
   "source": [
    "#### Explorando o dataset **\"daily_calendar_with_events\"**"
   ]
  },
  {
   "cell_type": "code",
   "execution_count": 26,
   "id": "24732b2b-4128-4500-bcdc-9d392e6fba95",
   "metadata": {},
   "outputs": [
    {
     "name": "stdout",
     "output_type": "stream",
     "text": [
      "Informações do dataset de \"Preço\":\n",
      "Tamanho: (1913, 5)\n",
      "Colunas: Index(['date', 'weekday', 'weekday_int', 'd', 'event'], dtype='object')\n"
     ]
    },
    {
     "data": {
      "text/html": [
       "<div>\n",
       "<style scoped>\n",
       "    .dataframe tbody tr th:only-of-type {\n",
       "        vertical-align: middle;\n",
       "    }\n",
       "\n",
       "    .dataframe tbody tr th {\n",
       "        vertical-align: top;\n",
       "    }\n",
       "\n",
       "    .dataframe thead th {\n",
       "        text-align: right;\n",
       "    }\n",
       "</style>\n",
       "<table border=\"1\" class=\"dataframe\">\n",
       "  <thead>\n",
       "    <tr style=\"text-align: right;\">\n",
       "      <th></th>\n",
       "      <th>date</th>\n",
       "      <th>weekday</th>\n",
       "      <th>weekday_int</th>\n",
       "      <th>d</th>\n",
       "      <th>event</th>\n",
       "    </tr>\n",
       "  </thead>\n",
       "  <tbody>\n",
       "    <tr>\n",
       "      <th>0</th>\n",
       "      <td>2011-01-29</td>\n",
       "      <td>Saturday</td>\n",
       "      <td>1</td>\n",
       "      <td>d_1</td>\n",
       "      <td>NaN</td>\n",
       "    </tr>\n",
       "    <tr>\n",
       "      <th>1</th>\n",
       "      <td>2011-01-30</td>\n",
       "      <td>Sunday</td>\n",
       "      <td>2</td>\n",
       "      <td>d_2</td>\n",
       "      <td>NaN</td>\n",
       "    </tr>\n",
       "    <tr>\n",
       "      <th>2</th>\n",
       "      <td>2011-01-31</td>\n",
       "      <td>Monday</td>\n",
       "      <td>3</td>\n",
       "      <td>d_3</td>\n",
       "      <td>NaN</td>\n",
       "    </tr>\n",
       "    <tr>\n",
       "      <th>3</th>\n",
       "      <td>2011-02-01</td>\n",
       "      <td>Tuesday</td>\n",
       "      <td>4</td>\n",
       "      <td>d_4</td>\n",
       "      <td>NaN</td>\n",
       "    </tr>\n",
       "    <tr>\n",
       "      <th>4</th>\n",
       "      <td>2011-02-02</td>\n",
       "      <td>Wednesday</td>\n",
       "      <td>5</td>\n",
       "      <td>d_5</td>\n",
       "      <td>NaN</td>\n",
       "    </tr>\n",
       "  </tbody>\n",
       "</table>\n",
       "</div>"
      ],
      "text/plain": [
       "         date    weekday  weekday_int    d event\n",
       "0  2011-01-29   Saturday            1  d_1   NaN\n",
       "1  2011-01-30     Sunday            2  d_2   NaN\n",
       "2  2011-01-31     Monday            3  d_3   NaN\n",
       "3  2011-02-01    Tuesday            4  d_4   NaN\n",
       "4  2011-02-02  Wednesday            5  d_5   NaN"
      ]
     },
     "execution_count": 26,
     "metadata": {},
     "output_type": "execute_result"
    }
   ],
   "source": [
    "print('Informações do dataset de \"Preço\":')\n",
    "print('Tamanho:',  df_events.shape)\n",
    "print('Colunas:',  df_events.columns)\n",
    "df_events.head()"
   ]
  },
  {
   "cell_type": "code",
   "execution_count": 27,
   "id": "49f6762b-4a15-4dc5-b012-7c50c7c41d4e",
   "metadata": {},
   "outputs": [
    {
     "name": "stdout",
     "output_type": "stream",
     "text": [
      "<class 'pandas.core.frame.DataFrame'>\n",
      "RangeIndex: 1913 entries, 0 to 1912\n",
      "Data columns (total 5 columns):\n",
      " #   Column       Non-Null Count  Dtype \n",
      "---  ------       --------------  ----- \n",
      " 0   date         1913 non-null   object\n",
      " 1   weekday      1913 non-null   object\n",
      " 2   weekday_int  1913 non-null   int64 \n",
      " 3   d            1913 non-null   object\n",
      " 4   event        26 non-null     object\n",
      "dtypes: int64(1), object(4)\n",
      "memory usage: 74.9+ KB\n"
     ]
    }
   ],
   "source": [
    "df_events.info(verbose=True)"
   ]
  },
  {
   "cell_type": "code",
   "execution_count": 28,
   "id": "904205a3-b194-49b2-bc9e-124633e01345",
   "metadata": {},
   "outputs": [
    {
     "data": {
      "text/plain": [
       "date              0\n",
       "weekday           0\n",
       "weekday_int       0\n",
       "d                 0\n",
       "event          1887\n",
       "dtype: int64"
      ]
     },
     "execution_count": 28,
     "metadata": {},
     "output_type": "execute_result"
    }
   ],
   "source": [
    "df_events.select_dtypes(include=['number','object']).isnull().sum()"
   ]
  },
  {
   "cell_type": "code",
   "execution_count": 29,
   "id": "a5618c1f-c8bf-469e-bc68-a98b7118d69e",
   "metadata": {},
   "outputs": [
    {
     "data": {
      "text/html": [
       "<div>\n",
       "<style scoped>\n",
       "    .dataframe tbody tr th:only-of-type {\n",
       "        vertical-align: middle;\n",
       "    }\n",
       "\n",
       "    .dataframe tbody tr th {\n",
       "        vertical-align: top;\n",
       "    }\n",
       "\n",
       "    .dataframe thead th {\n",
       "        text-align: right;\n",
       "    }\n",
       "</style>\n",
       "<table border=\"1\" class=\"dataframe\">\n",
       "  <thead>\n",
       "    <tr style=\"text-align: right;\">\n",
       "      <th></th>\n",
       "      <th>count</th>\n",
       "      <th>mean</th>\n",
       "      <th>std</th>\n",
       "      <th>min</th>\n",
       "      <th>25%</th>\n",
       "      <th>50%</th>\n",
       "      <th>75%</th>\n",
       "      <th>max</th>\n",
       "    </tr>\n",
       "  </thead>\n",
       "  <tbody>\n",
       "    <tr>\n",
       "      <th>weekday_int</th>\n",
       "      <td>1913.0</td>\n",
       "      <td>3.997386</td>\n",
       "      <td>2.001175</td>\n",
       "      <td>1.0</td>\n",
       "      <td>2.0</td>\n",
       "      <td>4.0</td>\n",
       "      <td>6.0</td>\n",
       "      <td>7.0</td>\n",
       "    </tr>\n",
       "  </tbody>\n",
       "</table>\n",
       "</div>"
      ],
      "text/plain": [
       "              count      mean       std  min  25%  50%  75%  max\n",
       "weekday_int  1913.0  3.997386  2.001175  1.0  2.0  4.0  6.0  7.0"
      ]
     },
     "execution_count": 29,
     "metadata": {},
     "output_type": "execute_result"
    }
   ],
   "source": [
    "df_events.describe().T"
   ]
  },
  {
   "cell_type": "code",
   "execution_count": 30,
   "id": "ecee2be9-b617-4589-8192-a2388c9c2e25",
   "metadata": {},
   "outputs": [
    {
     "data": {
      "text/html": [
       "<div>\n",
       "<style scoped>\n",
       "    .dataframe tbody tr th:only-of-type {\n",
       "        vertical-align: middle;\n",
       "    }\n",
       "\n",
       "    .dataframe tbody tr th {\n",
       "        vertical-align: top;\n",
       "    }\n",
       "\n",
       "    .dataframe thead th {\n",
       "        text-align: right;\n",
       "    }\n",
       "</style>\n",
       "<table border=\"1\" class=\"dataframe\">\n",
       "  <thead>\n",
       "    <tr style=\"text-align: right;\">\n",
       "      <th></th>\n",
       "      <th>count</th>\n",
       "      <th>unique</th>\n",
       "      <th>top</th>\n",
       "      <th>freq</th>\n",
       "    </tr>\n",
       "  </thead>\n",
       "  <tbody>\n",
       "    <tr>\n",
       "      <th>date</th>\n",
       "      <td>1913</td>\n",
       "      <td>1913</td>\n",
       "      <td>2011-01-29</td>\n",
       "      <td>1</td>\n",
       "    </tr>\n",
       "    <tr>\n",
       "      <th>weekday</th>\n",
       "      <td>1913</td>\n",
       "      <td>7</td>\n",
       "      <td>Saturday</td>\n",
       "      <td>274</td>\n",
       "    </tr>\n",
       "    <tr>\n",
       "      <th>d</th>\n",
       "      <td>1913</td>\n",
       "      <td>1913</td>\n",
       "      <td>d_1</td>\n",
       "      <td>1</td>\n",
       "    </tr>\n",
       "    <tr>\n",
       "      <th>event</th>\n",
       "      <td>26</td>\n",
       "      <td>5</td>\n",
       "      <td>SuperBowl</td>\n",
       "      <td>6</td>\n",
       "    </tr>\n",
       "  </tbody>\n",
       "</table>\n",
       "</div>"
      ],
      "text/plain": [
       "        count unique         top freq\n",
       "date     1913   1913  2011-01-29    1\n",
       "weekday  1913      7    Saturday  274\n",
       "d        1913   1913         d_1    1\n",
       "event      26      5   SuperBowl    6"
      ]
     },
     "execution_count": 30,
     "metadata": {},
     "output_type": "execute_result"
    }
   ],
   "source": [
    "df_events.describe(include=['object']).T"
   ]
  }
 ],
 "metadata": {
  "kernelspec": {
   "display_name": "Python 3 (ipykernel)",
   "language": "python",
   "name": "python3"
  },
  "language_info": {
   "codemirror_mode": {
    "name": "ipython",
    "version": 3
   },
   "file_extension": ".py",
   "mimetype": "text/x-python",
   "name": "python",
   "nbconvert_exporter": "python",
   "pygments_lexer": "ipython3",
   "version": "3.11.7"
  }
 },
 "nbformat": 4,
 "nbformat_minor": 5
}
