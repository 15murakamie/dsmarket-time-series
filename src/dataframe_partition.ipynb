{
 "cells": [
  {
   "cell_type": "markdown",
   "id": "a4e7252e-0537-48af-bc15-8e6a4188a8ce",
   "metadata": {},
   "source": [
    "## Importando as bibliotecas"
   ]
  },
  {
   "cell_type": "code",
   "execution_count": 41,
   "id": "608c2627-e37f-4845-bab0-e67d077dcdaa",
   "metadata": {},
   "outputs": [],
   "source": [
    "import pandas as pd\n",
    "import math"
   ]
  },
  {
   "cell_type": "markdown",
   "id": "048933d4",
   "metadata": {},
   "source": [
    "### Repartindo o item_prices e item_sales"
   ]
  },
  {
   "cell_type": "code",
   "execution_count": 68,
   "id": "b8bdacb4",
   "metadata": {},
   "outputs": [],
   "source": [
    "# Definindo diretório padrão dos dados\n",
    "dir=r'C:\\Users\\ermura\\OneDrive - SAS\\Documents\\Nuclio Digital School\\Entregaveis\\Projeto Final\\data'\n",
    "\n",
    "df_price = pd.read_csv(dir + '/item_prices.csv')\n",
    "df_sales = pd.read_csv(dir + '/item_sales.csv')\n",
    "df_events = pd.read_csv(dir + '/daily_calendar_with_events.csv')"
   ]
  },
  {
   "cell_type": "code",
   "execution_count": 69,
   "id": "6a5f01cb",
   "metadata": {},
   "outputs": [],
   "source": [
    "# Dividindo o df_price em 5 dataframes diferentes\n",
    "n = 5 #quantidade de partições\n",
    "n_rows = math.ceil(len(df_price)/n)\n",
    "\n",
    "# Create the DataFrames\n",
    "for i in range(n):\n",
    "    start_idx = n_rows * i\n",
    "    end_idx = n_rows * (i + 1)\n",
    "    df_name = f'df_price{i+1}'\n",
    "    csv_name = f'item_prices{i+1}'\n",
    "    globals()[df_name] = df_price.iloc[start_idx:end_idx, :]\n",
    "    globals()[df_name].to_csv(f'{csv_name}.csv', index=False)\n",
    "\n"
   ]
  },
  {
   "cell_type": "code",
   "execution_count": 70,
   "id": "5672093e",
   "metadata": {},
   "outputs": [],
   "source": [
    "# Dividindo o df_sales em 6 dataframes diferentes\n",
    "n = 6 #quantidade de partições\n",
    "n_rows = math.ceil(len(df_sales)/n)\n",
    "\n",
    "# Create the DataFrames\n",
    "for i in range(n):\n",
    "    start_idx = n_rows * i\n",
    "    end_idx = n_rows * (i + 1)\n",
    "    df_name = f'df_sales{i+1}'\n",
    "    csv_name = f'item_sales{i+1}'\n",
    "    globals()[df_name] = df_sales.iloc[start_idx:end_idx, :]\n",
    "    globals()[df_name].to_csv(f'{csv_name}.csv', index=False)\n",
    "    # print(globals()[df_name])\n",
    "\n"
   ]
  }
 ],
 "metadata": {
  "kernelspec": {
   "display_name": "Python 3 (ipykernel)",
   "language": "python",
   "name": "python3"
  },
  "language_info": {
   "codemirror_mode": {
    "name": "ipython",
    "version": 3
   },
   "file_extension": ".py",
   "mimetype": "text/x-python",
   "name": "python",
   "nbconvert_exporter": "python",
   "pygments_lexer": "ipython3",
   "version": "3.11.9"
  }
 },
 "nbformat": 4,
 "nbformat_minor": 5
}
